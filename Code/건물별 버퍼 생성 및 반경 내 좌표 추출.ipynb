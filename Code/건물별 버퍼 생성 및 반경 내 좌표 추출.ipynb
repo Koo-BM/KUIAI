{
 "cells": [
  {
   "cell_type": "markdown",
   "metadata": {},
   "source": [
    "- 해당 노트북 파일은 주피터 노트북을 통해 작성되었습니다."
   ]
  },
  {
   "cell_type": "markdown",
   "metadata": {},
   "source": [
    "### 패키지 불러오기"
   ]
  },
  {
   "cell_type": "code",
   "execution_count": 119,
   "metadata": {},
   "outputs": [],
   "source": [
    "from haversine import haversine\n",
    "import pandas as pd\n",
    "\n",
    "import geopandas as gpd\n",
    "from shapely.geometry import Point, Polygon, LineString\n",
    "\n",
    "from tqdm import tqdm"
   ]
  },
  {
   "cell_type": "markdown",
   "metadata": {},
   "source": [
    "### 데이터 불러오기"
   ]
  },
  {
   "cell_type": "code",
   "execution_count": 128,
   "metadata": {},
   "outputs": [],
   "source": [
    "subway_xy = pd.read_csv('subway_xy.csv', encoding='cp949')\n",
    "school_xy = pd.read_csv('school_xy.csv', encoding='cp949')\n",
    "big_mart = pd.read_csv('big_mart.csv', encoding='cp949')"
   ]
  },
  {
   "cell_type": "code",
   "execution_count": 129,
   "metadata": {},
   "outputs": [],
   "source": [
    "building = pd.read_csv('data_road2.csv', encoding='cp949')"
   ]
  },
  {
   "cell_type": "markdown",
   "metadata": {},
   "source": [
    "- 위경도 튜플 생성"
   ]
  },
  {
   "cell_type": "code",
   "execution_count": 130,
   "metadata": {},
   "outputs": [],
   "source": [
    "subway_xy['xy_tuple'] = list(zip(subway_xy.loc[:, 'lat'], subway_xy.loc[:, 'lon']))\n",
    "school_xy['xy_tuple'] = list(zip(school_xy.loc[:, 'lat'], school_xy.loc[:, 'lon']))\n",
    "big_mart['xy_tuple'] = list(zip(big_mart.loc[:, 'lat'], big_mart.loc[:, 'lon']))\n",
    "building['xy_tuple'] = list(zip(building.loc[:, '위도'], building.loc[:, '경도']))"
   ]
  },
  {
   "cell_type": "markdown",
   "metadata": {},
   "source": [
    "### 1. GeoPandas 형식에 맞춰서 좌표계 수정"
   ]
  },
  {
   "cell_type": "code",
   "execution_count": 131,
   "metadata": {},
   "outputs": [],
   "source": [
    "building['geometry'] = building.apply(lambda row : Point([row['경도'], row['위도']]), axis=1)"
   ]
  },
  {
   "cell_type": "code",
   "execution_count": 132,
   "metadata": {},
   "outputs": [
    {
     "name": "stderr",
     "output_type": "stream",
     "text": [
      "C:\\Users\\KBM\\anaconda3\\lib\\site-packages\\pyproj\\crs\\crs.py:131: FutureWarning: '+init=<authority>:<code>' syntax is deprecated. '<authority>:<code>' is the preferred initialization method. When making the change, be mindful of axis order changes: https://pyproj4.github.io/pyproj/stable/gotchas.html#axis-order-changes-in-proj-6\n",
      "  in_crs_string = _prepare_from_proj_string(in_crs_string)\n",
      "C:\\Users\\KBM\\anaconda3\\lib\\site-packages\\pyproj\\crs\\crs.py:131: FutureWarning: '+init=<authority>:<code>' syntax is deprecated. '<authority>:<code>' is the preferred initialization method. When making the change, be mindful of axis order changes: https://pyproj4.github.io/pyproj/stable/gotchas.html#axis-order-changes-in-proj-6\n",
      "  in_crs_string = _prepare_from_proj_string(in_crs_string)\n"
     ]
    }
   ],
   "source": [
    "building_geo = gpd.GeoDataFrame(building, geometry='geometry')\n",
    "building_geo.crs = {'init':'epsg:4326'}\n",
    "building_geo = building_geo.to_crs({'init':'epsg:5179'})"
   ]
  },
  {
   "cell_type": "code",
   "execution_count": 7,
   "metadata": {},
   "outputs": [
    {
     "data": {
      "text/html": [
       "<div>\n",
       "<style scoped>\n",
       "    .dataframe tbody tr th:only-of-type {\n",
       "        vertical-align: middle;\n",
       "    }\n",
       "\n",
       "    .dataframe tbody tr th {\n",
       "        vertical-align: top;\n",
       "    }\n",
       "\n",
       "    .dataframe thead th {\n",
       "        text-align: right;\n",
       "    }\n",
       "</style>\n",
       "<table border=\"1\" class=\"dataframe\">\n",
       "  <thead>\n",
       "    <tr style=\"text-align: right;\">\n",
       "      <th></th>\n",
       "      <th>도로명주소</th>\n",
       "      <th>위도</th>\n",
       "      <th>경도</th>\n",
       "      <th>xy_tuple</th>\n",
       "      <th>geometry</th>\n",
       "    </tr>\n",
       "  </thead>\n",
       "  <tbody>\n",
       "    <tr>\n",
       "      <th>0</th>\n",
       "      <td>서울특별시 강동구 양재대로 1540</td>\n",
       "      <td>37.542920</td>\n",
       "      <td>127.142450</td>\n",
       "      <td>(37.5429196, 127.1424496)</td>\n",
       "      <td>POINT (968414.138 1949348.008)</td>\n",
       "    </tr>\n",
       "    <tr>\n",
       "      <th>1</th>\n",
       "      <td>서울특별시 강동구 양재대로 1449</td>\n",
       "      <td>37.535248</td>\n",
       "      <td>127.138685</td>\n",
       "      <td>(37.5352477, 127.13868470000001)</td>\n",
       "      <td>POINT (968078.277 1948498.129)</td>\n",
       "    </tr>\n",
       "    <tr>\n",
       "      <th>2</th>\n",
       "      <td>서울특별시 강동구 양재대로128길</td>\n",
       "      <td>37.544508</td>\n",
       "      <td>127.144746</td>\n",
       "      <td>(37.5445084, 127.14474569999999)</td>\n",
       "      <td>POINT (968617.642 1949523.507)</td>\n",
       "    </tr>\n",
       "    <tr>\n",
       "      <th>3</th>\n",
       "      <td>서울특별시 강동구 천호대로 1156</td>\n",
       "      <td>37.533434</td>\n",
       "      <td>127.139603</td>\n",
       "      <td>(37.533434299999996, 127.13960279999999)</td>\n",
       "      <td>POINT (968158.619 1948296.632)</td>\n",
       "    </tr>\n",
       "    <tr>\n",
       "      <th>4</th>\n",
       "      <td>서울특별시 강동구 천호대로 1238</td>\n",
       "      <td>37.535540</td>\n",
       "      <td>127.148192</td>\n",
       "      <td>(37.5355401, 127.14819159999999)</td>\n",
       "      <td>POINT (968918.323 1948527.384)</td>\n",
       "    </tr>\n",
       "    <tr>\n",
       "      <th>...</th>\n",
       "      <td>...</td>\n",
       "      <td>...</td>\n",
       "      <td>...</td>\n",
       "      <td>...</td>\n",
       "      <td>...</td>\n",
       "    </tr>\n",
       "    <tr>\n",
       "      <th>119967</th>\n",
       "      <td>서울특별시 영등포구 영중로 155</td>\n",
       "      <td>37.530283</td>\n",
       "      <td>126.905429</td>\n",
       "      <td>(37.5302831, 126.9054287)</td>\n",
       "      <td>POINT (947466.785 1948052.068)</td>\n",
       "    </tr>\n",
       "    <tr>\n",
       "      <th>119968</th>\n",
       "      <td>서울특별시 영등포구 영중로 163</td>\n",
       "      <td>37.530840</td>\n",
       "      <td>126.905173</td>\n",
       "      <td>(37.5308403, 126.9051727)</td>\n",
       "      <td>POINT (947444.557 1948114.030)</td>\n",
       "    </tr>\n",
       "    <tr>\n",
       "      <th>119969</th>\n",
       "      <td>서울특별시 영등포구 영중로 155-8</td>\n",
       "      <td>37.530245</td>\n",
       "      <td>126.904834</td>\n",
       "      <td>(37.5302452, 126.9048341)</td>\n",
       "      <td>POINT (947414.222 1948048.196)</td>\n",
       "    </tr>\n",
       "    <tr>\n",
       "      <th>119970</th>\n",
       "      <td>서울특별시 영등포구 영중로 157-11</td>\n",
       "      <td>37.530342</td>\n",
       "      <td>126.904867</td>\n",
       "      <td>(37.530341899999996, 126.90486659999999)</td>\n",
       "      <td>POINT (947417.161 1948058.906)</td>\n",
       "    </tr>\n",
       "    <tr>\n",
       "      <th>119971</th>\n",
       "      <td>서울특별시 영등포구 영중로 154</td>\n",
       "      <td>37.530054</td>\n",
       "      <td>126.906335</td>\n",
       "      <td>(37.5300537, 126.90633490000002)</td>\n",
       "      <td>POINT (947546.692 1948026.112)</td>\n",
       "    </tr>\n",
       "  </tbody>\n",
       "</table>\n",
       "<p>119972 rows × 5 columns</p>\n",
       "</div>"
      ],
      "text/plain": [
       "                        도로명주소         위도          경도  \\\n",
       "0         서울특별시 강동구 양재대로 1540  37.542920  127.142450   \n",
       "1         서울특별시 강동구 양재대로 1449  37.535248  127.138685   \n",
       "2         서울특별시 강동구 양재대로128길   37.544508  127.144746   \n",
       "3         서울특별시 강동구 천호대로 1156  37.533434  127.139603   \n",
       "4         서울특별시 강동구 천호대로 1238  37.535540  127.148192   \n",
       "...                       ...        ...         ...   \n",
       "119967     서울특별시 영등포구 영중로 155  37.530283  126.905429   \n",
       "119968     서울특별시 영등포구 영중로 163  37.530840  126.905173   \n",
       "119969   서울특별시 영등포구 영중로 155-8  37.530245  126.904834   \n",
       "119970  서울특별시 영등포구 영중로 157-11  37.530342  126.904867   \n",
       "119971     서울특별시 영등포구 영중로 154  37.530054  126.906335   \n",
       "\n",
       "                                        xy_tuple  \\\n",
       "0                      (37.5429196, 127.1424496)   \n",
       "1               (37.5352477, 127.13868470000001)   \n",
       "2               (37.5445084, 127.14474569999999)   \n",
       "3       (37.533434299999996, 127.13960279999999)   \n",
       "4               (37.5355401, 127.14819159999999)   \n",
       "...                                          ...   \n",
       "119967                 (37.5302831, 126.9054287)   \n",
       "119968                 (37.5308403, 126.9051727)   \n",
       "119969                 (37.5302452, 126.9048341)   \n",
       "119970  (37.530341899999996, 126.90486659999999)   \n",
       "119971          (37.5300537, 126.90633490000002)   \n",
       "\n",
       "                              geometry  \n",
       "0       POINT (968414.138 1949348.008)  \n",
       "1       POINT (968078.277 1948498.129)  \n",
       "2       POINT (968617.642 1949523.507)  \n",
       "3       POINT (968158.619 1948296.632)  \n",
       "4       POINT (968918.323 1948527.384)  \n",
       "...                                ...  \n",
       "119967  POINT (947466.785 1948052.068)  \n",
       "119968  POINT (947444.557 1948114.030)  \n",
       "119969  POINT (947414.222 1948048.196)  \n",
       "119970  POINT (947417.161 1948058.906)  \n",
       "119971  POINT (947546.692 1948026.112)  \n",
       "\n",
       "[119972 rows x 5 columns]"
      ]
     },
     "execution_count": 7,
     "metadata": {},
     "output_type": "execute_result"
    }
   ],
   "source": [
    "building_geo"
   ]
  },
  {
   "cell_type": "code",
   "execution_count": 133,
   "metadata": {},
   "outputs": [],
   "source": [
    "subway_xy['geometry'] = subway_xy.apply(lambda row : Point([row['lon'], row['lat']]), axis=1)\n",
    "school_xy['geometry'] = school_xy.apply(lambda row : Point([row['lon'], row['lat']]), axis=1)\n",
    "big_mart['geometry'] = big_mart.apply(lambda row : Point([row['lon'], row['lat']]), axis=1)"
   ]
  },
  {
   "cell_type": "code",
   "execution_count": 135,
   "metadata": {},
   "outputs": [
    {
     "name": "stderr",
     "output_type": "stream",
     "text": [
      "C:\\Users\\KBM\\anaconda3\\lib\\site-packages\\pyproj\\crs\\crs.py:131: FutureWarning: '+init=<authority>:<code>' syntax is deprecated. '<authority>:<code>' is the preferred initialization method. When making the change, be mindful of axis order changes: https://pyproj4.github.io/pyproj/stable/gotchas.html#axis-order-changes-in-proj-6\n",
      "  in_crs_string = _prepare_from_proj_string(in_crs_string)\n",
      "C:\\Users\\KBM\\anaconda3\\lib\\site-packages\\pyproj\\crs\\crs.py:131: FutureWarning: '+init=<authority>:<code>' syntax is deprecated. '<authority>:<code>' is the preferred initialization method. When making the change, be mindful of axis order changes: https://pyproj4.github.io/pyproj/stable/gotchas.html#axis-order-changes-in-proj-6\n",
      "  in_crs_string = _prepare_from_proj_string(in_crs_string)\n",
      "C:\\Users\\KBM\\anaconda3\\lib\\site-packages\\pyproj\\crs\\crs.py:131: FutureWarning: '+init=<authority>:<code>' syntax is deprecated. '<authority>:<code>' is the preferred initialization method. When making the change, be mindful of axis order changes: https://pyproj4.github.io/pyproj/stable/gotchas.html#axis-order-changes-in-proj-6\n",
      "  in_crs_string = _prepare_from_proj_string(in_crs_string)\n",
      "C:\\Users\\KBM\\anaconda3\\lib\\site-packages\\pyproj\\crs\\crs.py:131: FutureWarning: '+init=<authority>:<code>' syntax is deprecated. '<authority>:<code>' is the preferred initialization method. When making the change, be mindful of axis order changes: https://pyproj4.github.io/pyproj/stable/gotchas.html#axis-order-changes-in-proj-6\n",
      "  in_crs_string = _prepare_from_proj_string(in_crs_string)\n",
      "C:\\Users\\KBM\\anaconda3\\lib\\site-packages\\pyproj\\crs\\crs.py:131: FutureWarning: '+init=<authority>:<code>' syntax is deprecated. '<authority>:<code>' is the preferred initialization method. When making the change, be mindful of axis order changes: https://pyproj4.github.io/pyproj/stable/gotchas.html#axis-order-changes-in-proj-6\n",
      "  in_crs_string = _prepare_from_proj_string(in_crs_string)\n",
      "C:\\Users\\KBM\\anaconda3\\lib\\site-packages\\pyproj\\crs\\crs.py:131: FutureWarning: '+init=<authority>:<code>' syntax is deprecated. '<authority>:<code>' is the preferred initialization method. When making the change, be mindful of axis order changes: https://pyproj4.github.io/pyproj/stable/gotchas.html#axis-order-changes-in-proj-6\n",
      "  in_crs_string = _prepare_from_proj_string(in_crs_string)\n"
     ]
    }
   ],
   "source": [
    "subway_geo = gpd.GeoDataFrame(subway_xy, geometry='geometry')\n",
    "subway_geo.crs = {'init':'epsg:4326'}\n",
    "subway_geo = subway_geo.to_crs({'init':'epsg:5179'})\n",
    "\n",
    "school_geo = gpd.GeoDataFrame(school_xy, geometry='geometry')\n",
    "school_geo.crs = {'init':'epsg:4326'}\n",
    "school_geo = school_geo.to_crs({'init':'epsg:5179'})\n",
    "\n",
    "mart_geo = gpd.GeoDataFrame(big_mart, geometry='geometry')\n",
    "mart_geo.crs = {'init':'epsg:4326'}\n",
    "mart_geo = mart_geo.to_crs({'init':'epsg:5179'})"
   ]
  },
  {
   "cell_type": "markdown",
   "metadata": {},
   "source": [
    "- 가장 가까운 지하철역, 학교, 마트, 상권코드와의 거리를 도출할 때는 유클리디안 거리보다 하버사인 거리 적합 \n",
    "- 모든 건물과 모든 지하철역까지의 거리를 계산해서 최소값을 도출해내도 되지만 많은 시간이 소모되므로 건물별 반경을 그리고 해당 반경에 들어오는 지하철역 중 가장 가까운 거리를 도출"
   ]
  },
  {
   "cell_type": "markdown",
   "metadata": {},
   "source": [
    "### 2. 건물별 10km 반경 내 지하철역 중 가장 가까운 지하철역과의 하버사인 거리 추출"
   ]
  },
  {
   "cell_type": "code",
   "execution_count": 98,
   "metadata": {},
   "outputs": [],
   "source": [
    "haver_dis_subway = []\n",
    "\n",
    "for building_index in building_geo.index:\n",
    "    \n",
    "    x = building_geo['xy_tuple'][building_index]\n",
    "    \n",
    "    point = building_geo['geometry'][building_index]\n",
    "    buffer = point.buffer(10000)\n",
    "    \n",
    "    distance = haversine(x, subway_geo['xy_tuple'][0])\n",
    "    \n",
    "    buffer_index = subway_geo[subway_geo['geometry'].within(buffer)==True].index\n",
    "    \n",
    "    for i in buffer_index:\n",
    "        \n",
    "        distance = min(distance, haversine(x, subway_geo['xy_tuple'][i]))\n",
    "        \n",
    "    haver_dis_subway.append(distance)"
   ]
  },
  {
   "cell_type": "code",
   "execution_count": 158,
   "metadata": {},
   "outputs": [],
   "source": [
    "haver_dis_subway = pd.DataFrame(haver_dis_subway, columns=['haver_dis_subway'])"
   ]
  },
  {
   "cell_type": "code",
   "execution_count": 159,
   "metadata": {},
   "outputs": [],
   "source": [
    "building_geo = pd.concat([building_geo, haver_dis_subway], axis=1)"
   ]
  },
  {
   "cell_type": "code",
   "execution_count": 160,
   "metadata": {},
   "outputs": [
    {
     "data": {
      "text/plain": [
       "(5.666785409042729, 0.004532649339048083)"
      ]
     },
     "execution_count": 160,
     "metadata": {},
     "output_type": "execute_result"
    }
   ],
   "source": [
    "building_geo['haver_dis_subway'].max(), building_geo['haver_dis_subway'].min()"
   ]
  },
  {
   "cell_type": "code",
   "execution_count": 126,
   "metadata": {},
   "outputs": [
    {
     "data": {
      "text/html": [
       "<div>\n",
       "<style scoped>\n",
       "    .dataframe tbody tr th:only-of-type {\n",
       "        vertical-align: middle;\n",
       "    }\n",
       "\n",
       "    .dataframe tbody tr th {\n",
       "        vertical-align: top;\n",
       "    }\n",
       "\n",
       "    .dataframe thead th {\n",
       "        text-align: right;\n",
       "    }\n",
       "</style>\n",
       "<table border=\"1\" class=\"dataframe\">\n",
       "  <thead>\n",
       "    <tr style=\"text-align: right;\">\n",
       "      <th></th>\n",
       "      <th>도로명주소</th>\n",
       "      <th>위도</th>\n",
       "      <th>경도</th>\n",
       "      <th>xy_tuple</th>\n",
       "      <th>geometry</th>\n",
       "      <th>haver_dis_subway</th>\n",
       "    </tr>\n",
       "  </thead>\n",
       "  <tbody>\n",
       "    <tr>\n",
       "      <th>0</th>\n",
       "      <td>서울특별시 강동구 양재대로 1540</td>\n",
       "      <td>37.542920</td>\n",
       "      <td>127.142450</td>\n",
       "      <td>(37.5429196, 127.1424496)</td>\n",
       "      <td>POINT (968414.138 1949348.008)</td>\n",
       "      <td>0.316026</td>\n",
       "    </tr>\n",
       "    <tr>\n",
       "      <th>1</th>\n",
       "      <td>서울특별시 강동구 양재대로 1449</td>\n",
       "      <td>37.535248</td>\n",
       "      <td>127.138685</td>\n",
       "      <td>(37.5352477, 127.13868470000001)</td>\n",
       "      <td>POINT (968078.277 1948498.129)</td>\n",
       "      <td>0.307749</td>\n",
       "    </tr>\n",
       "    <tr>\n",
       "      <th>2</th>\n",
       "      <td>서울특별시 강동구 양재대로128길</td>\n",
       "      <td>37.544508</td>\n",
       "      <td>127.144746</td>\n",
       "      <td>(37.5445084, 127.14474569999999)</td>\n",
       "      <td>POINT (968617.642 1949523.507)</td>\n",
       "      <td>0.207319</td>\n",
       "    </tr>\n",
       "    <tr>\n",
       "      <th>3</th>\n",
       "      <td>서울특별시 강동구 천호대로 1156</td>\n",
       "      <td>37.533434</td>\n",
       "      <td>127.139603</td>\n",
       "      <td>(37.533434299999996, 127.13960279999999)</td>\n",
       "      <td>POINT (968158.619 1948296.632)</td>\n",
       "      <td>0.487983</td>\n",
       "    </tr>\n",
       "    <tr>\n",
       "      <th>4</th>\n",
       "      <td>서울특별시 강동구 천호대로 1238</td>\n",
       "      <td>37.535540</td>\n",
       "      <td>127.148192</td>\n",
       "      <td>(37.5355401, 127.14819159999999)</td>\n",
       "      <td>POINT (968918.323 1948527.384)</td>\n",
       "      <td>0.765237</td>\n",
       "    </tr>\n",
       "    <tr>\n",
       "      <th>...</th>\n",
       "      <td>...</td>\n",
       "      <td>...</td>\n",
       "      <td>...</td>\n",
       "      <td>...</td>\n",
       "      <td>...</td>\n",
       "      <td>...</td>\n",
       "    </tr>\n",
       "    <tr>\n",
       "      <th>119967</th>\n",
       "      <td>서울특별시 영등포구 영중로 155</td>\n",
       "      <td>37.530283</td>\n",
       "      <td>126.905429</td>\n",
       "      <td>(37.5302831, 126.9054287)</td>\n",
       "      <td>POINT (947466.785 1948052.068)</td>\n",
       "      <td>0.571565</td>\n",
       "    </tr>\n",
       "    <tr>\n",
       "      <th>119968</th>\n",
       "      <td>서울특별시 영등포구 영중로 163</td>\n",
       "      <td>37.530840</td>\n",
       "      <td>126.905173</td>\n",
       "      <td>(37.5308403, 126.9051727)</td>\n",
       "      <td>POINT (947444.557 1948114.030)</td>\n",
       "      <td>0.505860</td>\n",
       "    </tr>\n",
       "    <tr>\n",
       "      <th>119969</th>\n",
       "      <td>서울특별시 영등포구 영중로 155-8</td>\n",
       "      <td>37.530245</td>\n",
       "      <td>126.904834</td>\n",
       "      <td>(37.5302452, 126.9048341)</td>\n",
       "      <td>POINT (947414.222 1948048.196)</td>\n",
       "      <td>0.555776</td>\n",
       "    </tr>\n",
       "    <tr>\n",
       "      <th>119970</th>\n",
       "      <td>서울특별시 영등포구 영중로 157-11</td>\n",
       "      <td>37.530342</td>\n",
       "      <td>126.904867</td>\n",
       "      <td>(37.530341899999996, 126.90486659999999)</td>\n",
       "      <td>POINT (947417.161 1948058.906)</td>\n",
       "      <td>0.546632</td>\n",
       "    </tr>\n",
       "    <tr>\n",
       "      <th>119971</th>\n",
       "      <td>서울특별시 영등포구 영중로 154</td>\n",
       "      <td>37.530054</td>\n",
       "      <td>126.906335</td>\n",
       "      <td>(37.5300537, 126.90633490000002)</td>\n",
       "      <td>POINT (947546.692 1948026.112)</td>\n",
       "      <td>0.631076</td>\n",
       "    </tr>\n",
       "  </tbody>\n",
       "</table>\n",
       "<p>119972 rows × 6 columns</p>\n",
       "</div>"
      ],
      "text/plain": [
       "                        도로명주소         위도          경도  \\\n",
       "0         서울특별시 강동구 양재대로 1540  37.542920  127.142450   \n",
       "1         서울특별시 강동구 양재대로 1449  37.535248  127.138685   \n",
       "2         서울특별시 강동구 양재대로128길   37.544508  127.144746   \n",
       "3         서울특별시 강동구 천호대로 1156  37.533434  127.139603   \n",
       "4         서울특별시 강동구 천호대로 1238  37.535540  127.148192   \n",
       "...                       ...        ...         ...   \n",
       "119967     서울특별시 영등포구 영중로 155  37.530283  126.905429   \n",
       "119968     서울특별시 영등포구 영중로 163  37.530840  126.905173   \n",
       "119969   서울특별시 영등포구 영중로 155-8  37.530245  126.904834   \n",
       "119970  서울특별시 영등포구 영중로 157-11  37.530342  126.904867   \n",
       "119971     서울특별시 영등포구 영중로 154  37.530054  126.906335   \n",
       "\n",
       "                                        xy_tuple  \\\n",
       "0                      (37.5429196, 127.1424496)   \n",
       "1               (37.5352477, 127.13868470000001)   \n",
       "2               (37.5445084, 127.14474569999999)   \n",
       "3       (37.533434299999996, 127.13960279999999)   \n",
       "4               (37.5355401, 127.14819159999999)   \n",
       "...                                          ...   \n",
       "119967                 (37.5302831, 126.9054287)   \n",
       "119968                 (37.5308403, 126.9051727)   \n",
       "119969                 (37.5302452, 126.9048341)   \n",
       "119970  (37.530341899999996, 126.90486659999999)   \n",
       "119971          (37.5300537, 126.90633490000002)   \n",
       "\n",
       "                              geometry  haver_dis_subway  \n",
       "0       POINT (968414.138 1949348.008)          0.316026  \n",
       "1       POINT (968078.277 1948498.129)          0.307749  \n",
       "2       POINT (968617.642 1949523.507)          0.207319  \n",
       "3       POINT (968158.619 1948296.632)          0.487983  \n",
       "4       POINT (968918.323 1948527.384)          0.765237  \n",
       "...                                ...               ...  \n",
       "119967  POINT (947466.785 1948052.068)          0.571565  \n",
       "119968  POINT (947444.557 1948114.030)          0.505860  \n",
       "119969  POINT (947414.222 1948048.196)          0.555776  \n",
       "119970  POINT (947417.161 1948058.906)          0.546632  \n",
       "119971  POINT (947546.692 1948026.112)          0.631076  \n",
       "\n",
       "[119972 rows x 6 columns]"
      ]
     },
     "execution_count": 126,
     "metadata": {},
     "output_type": "execute_result"
    }
   ],
   "source": [
    "building_geo"
   ]
  },
  {
   "cell_type": "markdown",
   "metadata": {},
   "source": [
    "### 3. 건물별 5km 반경 내 건물 중 가장 가까운 학교와의 하버사인 거리 추출"
   ]
  },
  {
   "cell_type": "markdown",
   "metadata": {},
   "source": [
    "- 지하철역에 비해 학교의 수가 많으므로 좁은 반경을 설정해서 거리 추출"
   ]
  },
  {
   "cell_type": "code",
   "execution_count": 142,
   "metadata": {},
   "outputs": [
    {
     "name": "stderr",
     "output_type": "stream",
     "text": [
      "건물별 5km 반경 내 가장 가까운 학교와의 거리 추출 중: 100%|██████████████████| 119972/119972 [1:22:05<00:00, 24.36it/s]\n"
     ]
    }
   ],
   "source": [
    "haver_dis_school = []\n",
    "\n",
    "for building_index in tqdm(building_geo.index, desc=\"건물별 5km 반경 내 가장 가까운 학교와의 거리 추출 중\"):\n",
    "    \n",
    "    x = building_geo['xy_tuple'][building_index]\n",
    "    \n",
    "    point = building_geo['geometry'][building_index]\n",
    "    buffer = point.buffer(5000)\n",
    "    \n",
    "    distance = haversine(x, school_geo['xy_tuple'][0])\n",
    "    \n",
    "    buffer_index = school_geo[school_geo['geometry'].within(buffer)==True].index\n",
    "    \n",
    "    for i in buffer_index:\n",
    "        \n",
    "        distance = min(distance, haversine(x, school_geo['xy_tuple'][i]))\n",
    "        \n",
    "    haver_dis_school.append(distance)"
   ]
  },
  {
   "cell_type": "code",
   "execution_count": 161,
   "metadata": {},
   "outputs": [],
   "source": [
    "haver_dis_school = pd.DataFrame(haver_dis_school, columns=['haver_dis_school'])"
   ]
  },
  {
   "cell_type": "code",
   "execution_count": 162,
   "metadata": {},
   "outputs": [],
   "source": [
    "building_geo = pd.concat([building_geo, haver_dis_school], axis=1)"
   ]
  },
  {
   "cell_type": "code",
   "execution_count": 163,
   "metadata": {},
   "outputs": [
    {
     "data": {
      "text/plain": [
       "(3.0007216570346427, 0.0045077194153888755)"
      ]
     },
     "execution_count": 163,
     "metadata": {},
     "output_type": "execute_result"
    }
   ],
   "source": [
    "building_geo['haver_dis_school'].max(), building_geo['haver_dis_school'].min()"
   ]
  },
  {
   "cell_type": "code",
   "execution_count": 164,
   "metadata": {},
   "outputs": [
    {
     "data": {
      "text/html": [
       "<div>\n",
       "<style scoped>\n",
       "    .dataframe tbody tr th:only-of-type {\n",
       "        vertical-align: middle;\n",
       "    }\n",
       "\n",
       "    .dataframe tbody tr th {\n",
       "        vertical-align: top;\n",
       "    }\n",
       "\n",
       "    .dataframe thead th {\n",
       "        text-align: right;\n",
       "    }\n",
       "</style>\n",
       "<table border=\"1\" class=\"dataframe\">\n",
       "  <thead>\n",
       "    <tr style=\"text-align: right;\">\n",
       "      <th></th>\n",
       "      <th>도로명주소</th>\n",
       "      <th>위도</th>\n",
       "      <th>경도</th>\n",
       "      <th>xy_tuple</th>\n",
       "      <th>geometry</th>\n",
       "      <th>haver_dis_subway</th>\n",
       "      <th>haver_dis_school</th>\n",
       "    </tr>\n",
       "  </thead>\n",
       "  <tbody>\n",
       "    <tr>\n",
       "      <th>0</th>\n",
       "      <td>서울특별시 강동구 양재대로 1540</td>\n",
       "      <td>37.542920</td>\n",
       "      <td>127.142450</td>\n",
       "      <td>(37.5429196, 127.1424496)</td>\n",
       "      <td>POINT (968414.138 1949348.008)</td>\n",
       "      <td>0.316026</td>\n",
       "      <td>0.459123</td>\n",
       "    </tr>\n",
       "    <tr>\n",
       "      <th>1</th>\n",
       "      <td>서울특별시 강동구 양재대로 1449</td>\n",
       "      <td>37.535248</td>\n",
       "      <td>127.138685</td>\n",
       "      <td>(37.5352477, 127.13868470000001)</td>\n",
       "      <td>POINT (968078.277 1948498.129)</td>\n",
       "      <td>0.307749</td>\n",
       "      <td>0.416656</td>\n",
       "    </tr>\n",
       "    <tr>\n",
       "      <th>2</th>\n",
       "      <td>서울특별시 강동구 양재대로128길</td>\n",
       "      <td>37.544508</td>\n",
       "      <td>127.144746</td>\n",
       "      <td>(37.5445084, 127.14474569999999)</td>\n",
       "      <td>POINT (968617.642 1949523.507)</td>\n",
       "      <td>0.207319</td>\n",
       "      <td>0.498036</td>\n",
       "    </tr>\n",
       "    <tr>\n",
       "      <th>3</th>\n",
       "      <td>서울특별시 강동구 천호대로 1156</td>\n",
       "      <td>37.533434</td>\n",
       "      <td>127.139603</td>\n",
       "      <td>(37.533434299999996, 127.13960279999999)</td>\n",
       "      <td>POINT (968158.619 1948296.632)</td>\n",
       "      <td>0.487983</td>\n",
       "      <td>0.432536</td>\n",
       "    </tr>\n",
       "    <tr>\n",
       "      <th>4</th>\n",
       "      <td>서울특별시 강동구 천호대로 1238</td>\n",
       "      <td>37.535540</td>\n",
       "      <td>127.148192</td>\n",
       "      <td>(37.5355401, 127.14819159999999)</td>\n",
       "      <td>POINT (968918.323 1948527.384)</td>\n",
       "      <td>0.765237</td>\n",
       "      <td>0.442360</td>\n",
       "    </tr>\n",
       "    <tr>\n",
       "      <th>...</th>\n",
       "      <td>...</td>\n",
       "      <td>...</td>\n",
       "      <td>...</td>\n",
       "      <td>...</td>\n",
       "      <td>...</td>\n",
       "      <td>...</td>\n",
       "      <td>...</td>\n",
       "    </tr>\n",
       "    <tr>\n",
       "      <th>119967</th>\n",
       "      <td>서울특별시 영등포구 영중로 155</td>\n",
       "      <td>37.530283</td>\n",
       "      <td>126.905429</td>\n",
       "      <td>(37.5302831, 126.9054287)</td>\n",
       "      <td>POINT (947466.785 1948052.068)</td>\n",
       "      <td>0.571565</td>\n",
       "      <td>0.273858</td>\n",
       "    </tr>\n",
       "    <tr>\n",
       "      <th>119968</th>\n",
       "      <td>서울특별시 영등포구 영중로 163</td>\n",
       "      <td>37.530840</td>\n",
       "      <td>126.905173</td>\n",
       "      <td>(37.5308403, 126.9051727)</td>\n",
       "      <td>POINT (947444.557 1948114.030)</td>\n",
       "      <td>0.505860</td>\n",
       "      <td>0.252851</td>\n",
       "    </tr>\n",
       "    <tr>\n",
       "      <th>119969</th>\n",
       "      <td>서울특별시 영등포구 영중로 155-8</td>\n",
       "      <td>37.530245</td>\n",
       "      <td>126.904834</td>\n",
       "      <td>(37.5302452, 126.9048341)</td>\n",
       "      <td>POINT (947414.222 1948048.196)</td>\n",
       "      <td>0.555776</td>\n",
       "      <td>0.315615</td>\n",
       "    </tr>\n",
       "    <tr>\n",
       "      <th>119970</th>\n",
       "      <td>서울특별시 영등포구 영중로 157-11</td>\n",
       "      <td>37.530342</td>\n",
       "      <td>126.904867</td>\n",
       "      <td>(37.530341899999996, 126.90486659999999)</td>\n",
       "      <td>POINT (947417.161 1948058.906)</td>\n",
       "      <td>0.546632</td>\n",
       "      <td>0.306686</td>\n",
       "    </tr>\n",
       "    <tr>\n",
       "      <th>119971</th>\n",
       "      <td>서울특별시 영등포구 영중로 154</td>\n",
       "      <td>37.530054</td>\n",
       "      <td>126.906335</td>\n",
       "      <td>(37.5300537, 126.90633490000002)</td>\n",
       "      <td>POINT (947546.692 1948026.112)</td>\n",
       "      <td>0.631076</td>\n",
       "      <td>0.247315</td>\n",
       "    </tr>\n",
       "  </tbody>\n",
       "</table>\n",
       "<p>119972 rows × 7 columns</p>\n",
       "</div>"
      ],
      "text/plain": [
       "                        도로명주소         위도          경도  \\\n",
       "0         서울특별시 강동구 양재대로 1540  37.542920  127.142450   \n",
       "1         서울특별시 강동구 양재대로 1449  37.535248  127.138685   \n",
       "2         서울특별시 강동구 양재대로128길   37.544508  127.144746   \n",
       "3         서울특별시 강동구 천호대로 1156  37.533434  127.139603   \n",
       "4         서울특별시 강동구 천호대로 1238  37.535540  127.148192   \n",
       "...                       ...        ...         ...   \n",
       "119967     서울특별시 영등포구 영중로 155  37.530283  126.905429   \n",
       "119968     서울특별시 영등포구 영중로 163  37.530840  126.905173   \n",
       "119969   서울특별시 영등포구 영중로 155-8  37.530245  126.904834   \n",
       "119970  서울특별시 영등포구 영중로 157-11  37.530342  126.904867   \n",
       "119971     서울특별시 영등포구 영중로 154  37.530054  126.906335   \n",
       "\n",
       "                                        xy_tuple  \\\n",
       "0                      (37.5429196, 127.1424496)   \n",
       "1               (37.5352477, 127.13868470000001)   \n",
       "2               (37.5445084, 127.14474569999999)   \n",
       "3       (37.533434299999996, 127.13960279999999)   \n",
       "4               (37.5355401, 127.14819159999999)   \n",
       "...                                          ...   \n",
       "119967                 (37.5302831, 126.9054287)   \n",
       "119968                 (37.5308403, 126.9051727)   \n",
       "119969                 (37.5302452, 126.9048341)   \n",
       "119970  (37.530341899999996, 126.90486659999999)   \n",
       "119971          (37.5300537, 126.90633490000002)   \n",
       "\n",
       "                              geometry  haver_dis_subway  haver_dis_school  \n",
       "0       POINT (968414.138 1949348.008)          0.316026          0.459123  \n",
       "1       POINT (968078.277 1948498.129)          0.307749          0.416656  \n",
       "2       POINT (968617.642 1949523.507)          0.207319          0.498036  \n",
       "3       POINT (968158.619 1948296.632)          0.487983          0.432536  \n",
       "4       POINT (968918.323 1948527.384)          0.765237          0.442360  \n",
       "...                                ...               ...               ...  \n",
       "119967  POINT (947466.785 1948052.068)          0.571565          0.273858  \n",
       "119968  POINT (947444.557 1948114.030)          0.505860          0.252851  \n",
       "119969  POINT (947414.222 1948048.196)          0.555776          0.315615  \n",
       "119970  POINT (947417.161 1948058.906)          0.546632          0.306686  \n",
       "119971  POINT (947546.692 1948026.112)          0.631076          0.247315  \n",
       "\n",
       "[119972 rows x 7 columns]"
      ]
     },
     "execution_count": 164,
     "metadata": {},
     "output_type": "execute_result"
    }
   ],
   "source": [
    "building_geo"
   ]
  },
  {
   "cell_type": "code",
   "execution_count": null,
   "metadata": {},
   "outputs": [],
   "source": []
  },
  {
   "cell_type": "markdown",
   "metadata": {},
   "source": [
    "### 4. 건물별 5km 반경 내 건물 중 가장 가까운 마트와의 하버사인 거리 추출"
   ]
  },
  {
   "cell_type": "code",
   "execution_count": 165,
   "metadata": {},
   "outputs": [
    {
     "name": "stderr",
     "output_type": "stream",
     "text": [
      "건물별 5km 반경 내 가장 가까운 마트와의 거리 추출 중: 100%|███████████████████| 119972/119972 [19:29<00:00, 102.60it/s]\n"
     ]
    }
   ],
   "source": [
    "haver_dis_mart = []\n",
    "\n",
    "for building_index in tqdm(building_geo.index, desc=\"건물별 5km 반경 내 가장 가까운 마트와의 거리 추출 중\"):\n",
    "    \n",
    "    x = building_geo['xy_tuple'][building_index]\n",
    "    \n",
    "    point = building_geo['geometry'][building_index]\n",
    "    buffer = point.buffer(5000)\n",
    "    \n",
    "    distance = haversine(x, mart_geo['xy_tuple'][0])\n",
    "    \n",
    "    buffer_index = mart_geo[mart_geo['geometry'].within(buffer)==True].index\n",
    "    \n",
    "    for i in buffer_index:\n",
    "        \n",
    "        distance = min(distance, haversine(x, mart_geo['xy_tuple'][i]))\n",
    "        \n",
    "    haver_dis_mart.append(distance)"
   ]
  },
  {
   "cell_type": "code",
   "execution_count": 170,
   "metadata": {},
   "outputs": [],
   "source": [
    "haver_dis_mart = pd.DataFrame(haver_dis_mart, columns=['haver_dis_mart'])"
   ]
  },
  {
   "cell_type": "code",
   "execution_count": 171,
   "metadata": {},
   "outputs": [],
   "source": [
    "building_geo = pd.concat([building_geo, haver_dis_mart], axis=1)"
   ]
  },
  {
   "cell_type": "code",
   "execution_count": 178,
   "metadata": {},
   "outputs": [
    {
     "data": {
      "text/plain": [
       "(4.671044765841274, 0.0001888427599679319)"
      ]
     },
     "execution_count": 178,
     "metadata": {},
     "output_type": "execute_result"
    }
   ],
   "source": [
    "building_geo['haver_dis_mart'].max(), building_geo['haver_dis_mart'].min()"
   ]
  },
  {
   "cell_type": "code",
   "execution_count": 179,
   "metadata": {},
   "outputs": [
    {
     "data": {
      "text/html": [
       "<div>\n",
       "<style scoped>\n",
       "    .dataframe tbody tr th:only-of-type {\n",
       "        vertical-align: middle;\n",
       "    }\n",
       "\n",
       "    .dataframe tbody tr th {\n",
       "        vertical-align: top;\n",
       "    }\n",
       "\n",
       "    .dataframe thead th {\n",
       "        text-align: right;\n",
       "    }\n",
       "</style>\n",
       "<table border=\"1\" class=\"dataframe\">\n",
       "  <thead>\n",
       "    <tr style=\"text-align: right;\">\n",
       "      <th></th>\n",
       "      <th>도로명주소</th>\n",
       "      <th>위도</th>\n",
       "      <th>경도</th>\n",
       "      <th>xy_tuple</th>\n",
       "      <th>geometry</th>\n",
       "      <th>haver_dis_subway</th>\n",
       "      <th>haver_dis_school</th>\n",
       "      <th>haver_dis_mart</th>\n",
       "    </tr>\n",
       "  </thead>\n",
       "  <tbody>\n",
       "    <tr>\n",
       "      <th>0</th>\n",
       "      <td>서울특별시 강동구 양재대로 1540</td>\n",
       "      <td>37.542920</td>\n",
       "      <td>127.142450</td>\n",
       "      <td>(37.5429196, 127.1424496)</td>\n",
       "      <td>POINT (968414.138 1949348.008)</td>\n",
       "      <td>0.316026</td>\n",
       "      <td>0.459123</td>\n",
       "      <td>0.110586</td>\n",
       "    </tr>\n",
       "    <tr>\n",
       "      <th>1</th>\n",
       "      <td>서울특별시 강동구 양재대로 1449</td>\n",
       "      <td>37.535248</td>\n",
       "      <td>127.138685</td>\n",
       "      <td>(37.5352477, 127.13868470000001)</td>\n",
       "      <td>POINT (968078.277 1948498.129)</td>\n",
       "      <td>0.307749</td>\n",
       "      <td>0.416656</td>\n",
       "      <td>0.139283</td>\n",
       "    </tr>\n",
       "    <tr>\n",
       "      <th>2</th>\n",
       "      <td>서울특별시 강동구 양재대로128길</td>\n",
       "      <td>37.544508</td>\n",
       "      <td>127.144746</td>\n",
       "      <td>(37.5445084, 127.14474569999999)</td>\n",
       "      <td>POINT (968617.642 1949523.507)</td>\n",
       "      <td>0.207319</td>\n",
       "      <td>0.498036</td>\n",
       "      <td>0.232098</td>\n",
       "    </tr>\n",
       "    <tr>\n",
       "      <th>3</th>\n",
       "      <td>서울특별시 강동구 천호대로 1156</td>\n",
       "      <td>37.533434</td>\n",
       "      <td>127.139603</td>\n",
       "      <td>(37.533434299999996, 127.13960279999999)</td>\n",
       "      <td>POINT (968158.619 1948296.632)</td>\n",
       "      <td>0.487983</td>\n",
       "      <td>0.432536</td>\n",
       "      <td>0.346491</td>\n",
       "    </tr>\n",
       "    <tr>\n",
       "      <th>4</th>\n",
       "      <td>서울특별시 강동구 천호대로 1238</td>\n",
       "      <td>37.535540</td>\n",
       "      <td>127.148192</td>\n",
       "      <td>(37.5355401, 127.14819159999999)</td>\n",
       "      <td>POINT (968918.323 1948527.384)</td>\n",
       "      <td>0.765237</td>\n",
       "      <td>0.442360</td>\n",
       "      <td>0.746099</td>\n",
       "    </tr>\n",
       "    <tr>\n",
       "      <th>...</th>\n",
       "      <td>...</td>\n",
       "      <td>...</td>\n",
       "      <td>...</td>\n",
       "      <td>...</td>\n",
       "      <td>...</td>\n",
       "      <td>...</td>\n",
       "      <td>...</td>\n",
       "      <td>...</td>\n",
       "    </tr>\n",
       "    <tr>\n",
       "      <th>119967</th>\n",
       "      <td>서울특별시 영등포구 영중로 155</td>\n",
       "      <td>37.530283</td>\n",
       "      <td>126.905429</td>\n",
       "      <td>(37.5302831, 126.9054287)</td>\n",
       "      <td>POINT (947466.785 1948052.068)</td>\n",
       "      <td>0.571565</td>\n",
       "      <td>0.273858</td>\n",
       "      <td>0.283304</td>\n",
       "    </tr>\n",
       "    <tr>\n",
       "      <th>119968</th>\n",
       "      <td>서울특별시 영등포구 영중로 163</td>\n",
       "      <td>37.530840</td>\n",
       "      <td>126.905173</td>\n",
       "      <td>(37.5308403, 126.9051727)</td>\n",
       "      <td>POINT (947444.557 1948114.030)</td>\n",
       "      <td>0.505860</td>\n",
       "      <td>0.252851</td>\n",
       "      <td>0.340109</td>\n",
       "    </tr>\n",
       "    <tr>\n",
       "      <th>119969</th>\n",
       "      <td>서울특별시 영등포구 영중로 155-8</td>\n",
       "      <td>37.530245</td>\n",
       "      <td>126.904834</td>\n",
       "      <td>(37.5302452, 126.9048341)</td>\n",
       "      <td>POINT (947414.222 1948048.196)</td>\n",
       "      <td>0.555776</td>\n",
       "      <td>0.315615</td>\n",
       "      <td>0.271392</td>\n",
       "    </tr>\n",
       "    <tr>\n",
       "      <th>119970</th>\n",
       "      <td>서울특별시 영등포구 영중로 157-11</td>\n",
       "      <td>37.530342</td>\n",
       "      <td>126.904867</td>\n",
       "      <td>(37.530341899999996, 126.90486659999999)</td>\n",
       "      <td>POINT (947417.161 1948058.906)</td>\n",
       "      <td>0.546632</td>\n",
       "      <td>0.306686</td>\n",
       "      <td>0.282294</td>\n",
       "    </tr>\n",
       "    <tr>\n",
       "      <th>119971</th>\n",
       "      <td>서울특별시 영등포구 영중로 154</td>\n",
       "      <td>37.530054</td>\n",
       "      <td>126.906335</td>\n",
       "      <td>(37.5300537, 126.90633490000002)</td>\n",
       "      <td>POINT (947546.692 1948026.112)</td>\n",
       "      <td>0.631076</td>\n",
       "      <td>0.247315</td>\n",
       "      <td>0.289846</td>\n",
       "    </tr>\n",
       "  </tbody>\n",
       "</table>\n",
       "<p>119972 rows × 8 columns</p>\n",
       "</div>"
      ],
      "text/plain": [
       "                        도로명주소         위도          경도  \\\n",
       "0         서울특별시 강동구 양재대로 1540  37.542920  127.142450   \n",
       "1         서울특별시 강동구 양재대로 1449  37.535248  127.138685   \n",
       "2         서울특별시 강동구 양재대로128길   37.544508  127.144746   \n",
       "3         서울특별시 강동구 천호대로 1156  37.533434  127.139603   \n",
       "4         서울특별시 강동구 천호대로 1238  37.535540  127.148192   \n",
       "...                       ...        ...         ...   \n",
       "119967     서울특별시 영등포구 영중로 155  37.530283  126.905429   \n",
       "119968     서울특별시 영등포구 영중로 163  37.530840  126.905173   \n",
       "119969   서울특별시 영등포구 영중로 155-8  37.530245  126.904834   \n",
       "119970  서울특별시 영등포구 영중로 157-11  37.530342  126.904867   \n",
       "119971     서울특별시 영등포구 영중로 154  37.530054  126.906335   \n",
       "\n",
       "                                        xy_tuple  \\\n",
       "0                      (37.5429196, 127.1424496)   \n",
       "1               (37.5352477, 127.13868470000001)   \n",
       "2               (37.5445084, 127.14474569999999)   \n",
       "3       (37.533434299999996, 127.13960279999999)   \n",
       "4               (37.5355401, 127.14819159999999)   \n",
       "...                                          ...   \n",
       "119967                 (37.5302831, 126.9054287)   \n",
       "119968                 (37.5308403, 126.9051727)   \n",
       "119969                 (37.5302452, 126.9048341)   \n",
       "119970  (37.530341899999996, 126.90486659999999)   \n",
       "119971          (37.5300537, 126.90633490000002)   \n",
       "\n",
       "                              geometry  haver_dis_subway  haver_dis_school  \\\n",
       "0       POINT (968414.138 1949348.008)          0.316026          0.459123   \n",
       "1       POINT (968078.277 1948498.129)          0.307749          0.416656   \n",
       "2       POINT (968617.642 1949523.507)          0.207319          0.498036   \n",
       "3       POINT (968158.619 1948296.632)          0.487983          0.432536   \n",
       "4       POINT (968918.323 1948527.384)          0.765237          0.442360   \n",
       "...                                ...               ...               ...   \n",
       "119967  POINT (947466.785 1948052.068)          0.571565          0.273858   \n",
       "119968  POINT (947444.557 1948114.030)          0.505860          0.252851   \n",
       "119969  POINT (947414.222 1948048.196)          0.555776          0.315615   \n",
       "119970  POINT (947417.161 1948058.906)          0.546632          0.306686   \n",
       "119971  POINT (947546.692 1948026.112)          0.631076          0.247315   \n",
       "\n",
       "        haver_dis_mart  \n",
       "0             0.110586  \n",
       "1             0.139283  \n",
       "2             0.232098  \n",
       "3             0.346491  \n",
       "4             0.746099  \n",
       "...                ...  \n",
       "119967        0.283304  \n",
       "119968        0.340109  \n",
       "119969        0.271392  \n",
       "119970        0.282294  \n",
       "119971        0.289846  \n",
       "\n",
       "[119972 rows x 8 columns]"
      ]
     },
     "execution_count": 179,
     "metadata": {},
     "output_type": "execute_result"
    }
   ],
   "source": [
    "building_geo"
   ]
  },
  {
   "cell_type": "code",
   "execution_count": null,
   "metadata": {},
   "outputs": [],
   "source": []
  },
  {
   "cell_type": "code",
   "execution_count": null,
   "metadata": {},
   "outputs": [],
   "source": []
  },
  {
   "cell_type": "markdown",
   "metadata": {},
   "source": [
    "### 5. 건물별 500m 반경 내 상권"
   ]
  },
  {
   "cell_type": "code",
   "execution_count": 442,
   "metadata": {},
   "outputs": [],
   "source": [
    "commercial = pd.read_csv('commercial_code.csv', encoding='cp949')"
   ]
  },
  {
   "cell_type": "code",
   "execution_count": 224,
   "metadata": {},
   "outputs": [],
   "source": [
    "sales = pd.read_csv('com_sales_pop.csv', encoding='cp949')"
   ]
  },
  {
   "cell_type": "code",
   "execution_count": 225,
   "metadata": {},
   "outputs": [
    {
     "data": {
      "text/plain": [
       "Int64Index([804, 1271, 1304, 1310, 1343, 1371, 1400, 1424, 1433, 1434], dtype='int64')"
      ]
     },
     "execution_count": 225,
     "metadata": {},
     "output_type": "execute_result"
    }
   ],
   "source": [
    "sales[sales['총_매출액'].isnull()==True].index"
   ]
  },
  {
   "cell_type": "code",
   "execution_count": 226,
   "metadata": {},
   "outputs": [
    {
     "data": {
      "text/html": [
       "<div>\n",
       "<style scoped>\n",
       "    .dataframe tbody tr th:only-of-type {\n",
       "        vertical-align: middle;\n",
       "    }\n",
       "\n",
       "    .dataframe tbody tr th {\n",
       "        vertical-align: top;\n",
       "    }\n",
       "\n",
       "    .dataframe thead th {\n",
       "        text-align: right;\n",
       "    }\n",
       "</style>\n",
       "<table border=\"1\" class=\"dataframe\">\n",
       "  <thead>\n",
       "    <tr style=\"text-align: right;\">\n",
       "      <th></th>\n",
       "      <th>상권_코드</th>\n",
       "      <th>총_매출액</th>\n",
       "      <th>총_건수</th>\n",
       "      <th>건당_매출액</th>\n",
       "      <th>총_생활인구_수</th>\n",
       "    </tr>\n",
       "  </thead>\n",
       "  <tbody>\n",
       "    <tr>\n",
       "      <th>1277</th>\n",
       "      <td>1001278</td>\n",
       "      <td>3262668.0</td>\n",
       "      <td>288.0</td>\n",
       "      <td>11328.708333</td>\n",
       "      <td>NaN</td>\n",
       "    </tr>\n",
       "  </tbody>\n",
       "</table>\n",
       "</div>"
      ],
      "text/plain": [
       "        상권_코드      총_매출액   총_건수        건당_매출액  총_생활인구_수\n",
       "1277  1001278  3262668.0  288.0  11328.708333       NaN"
      ]
     },
     "execution_count": 226,
     "metadata": {},
     "output_type": "execute_result"
    }
   ],
   "source": [
    "sales[sales['총_생활인구_수'].isnull()==True]"
   ]
  },
  {
   "cell_type": "markdown",
   "metadata": {},
   "source": [
    "- 이상치 보유한 상권 제거"
   ]
  },
  {
   "cell_type": "code",
   "execution_count": 443,
   "metadata": {},
   "outputs": [],
   "source": [
    "commercial_sort = commercial.sort_values('상권_코드').reset_index(drop=True)"
   ]
  },
  {
   "cell_type": "code",
   "execution_count": 445,
   "metadata": {},
   "outputs": [],
   "source": [
    "commercial_sort = commercial_sort.drop([804,1271,1277,1304,1310,1343,1371,1400,1424,1433,1434], axis=0).reset_index(drop=True)"
   ]
  },
  {
   "cell_type": "code",
   "execution_count": 447,
   "metadata": {},
   "outputs": [],
   "source": [
    "# 위경도 튜플 생성\n",
    "commercial['xy_tuple'] = list(zip(commercial.loc[:, 'lat'], commercial.loc[:, 'lon']))\n",
    "commercial_sort['xy_tuple'] = list(zip(commercial_sort.loc[:, 'lat'], commercial_sort.loc[:, 'lon']))"
   ]
  },
  {
   "cell_type": "code",
   "execution_count": 448,
   "metadata": {},
   "outputs": [],
   "source": [
    "# GeoPandas 형식 맞추기\n",
    "commercial['geometry'] = commercial.apply(lambda row : Point([row['lon'], row['lat']]), axis=1)\n",
    "commercial_sort['geometry'] = commercial_sort.apply(lambda row : Point([row['lon'], row['lat']]), axis=1)"
   ]
  },
  {
   "cell_type": "code",
   "execution_count": 449,
   "metadata": {},
   "outputs": [
    {
     "name": "stderr",
     "output_type": "stream",
     "text": [
      "C:\\Users\\KBM\\anaconda3\\lib\\site-packages\\pyproj\\crs\\crs.py:131: FutureWarning: '+init=<authority>:<code>' syntax is deprecated. '<authority>:<code>' is the preferred initialization method. When making the change, be mindful of axis order changes: https://pyproj4.github.io/pyproj/stable/gotchas.html#axis-order-changes-in-proj-6\n",
      "  in_crs_string = _prepare_from_proj_string(in_crs_string)\n",
      "C:\\Users\\KBM\\anaconda3\\lib\\site-packages\\pyproj\\crs\\crs.py:131: FutureWarning: '+init=<authority>:<code>' syntax is deprecated. '<authority>:<code>' is the preferred initialization method. When making the change, be mindful of axis order changes: https://pyproj4.github.io/pyproj/stable/gotchas.html#axis-order-changes-in-proj-6\n",
      "  in_crs_string = _prepare_from_proj_string(in_crs_string)\n",
      "C:\\Users\\KBM\\anaconda3\\lib\\site-packages\\pyproj\\crs\\crs.py:131: FutureWarning: '+init=<authority>:<code>' syntax is deprecated. '<authority>:<code>' is the preferred initialization method. When making the change, be mindful of axis order changes: https://pyproj4.github.io/pyproj/stable/gotchas.html#axis-order-changes-in-proj-6\n",
      "  in_crs_string = _prepare_from_proj_string(in_crs_string)\n",
      "C:\\Users\\KBM\\anaconda3\\lib\\site-packages\\pyproj\\crs\\crs.py:131: FutureWarning: '+init=<authority>:<code>' syntax is deprecated. '<authority>:<code>' is the preferred initialization method. When making the change, be mindful of axis order changes: https://pyproj4.github.io/pyproj/stable/gotchas.html#axis-order-changes-in-proj-6\n",
      "  in_crs_string = _prepare_from_proj_string(in_crs_string)\n"
     ]
    }
   ],
   "source": [
    "commercial_geo = gpd.GeoDataFrame(commercial, geometry='geometry')\n",
    "commercial_geo.crs = {'init':'epsg:4326'}\n",
    "commercial_geo = commercial_geo.to_crs({'init':'epsg:5179'})\n",
    "\n",
    "commercial_sort_geo = gpd.GeoDataFrame(commercial_sort, geometry='geometry')\n",
    "commercial_sort_geo.crs = {'init':'epsg:4326'}\n",
    "commercial_sort_geo = commercial_sort_geo.to_crs({'init':'epsg:5179'})"
   ]
  },
  {
   "cell_type": "markdown",
   "metadata": {},
   "source": [
    "#### 건물별 500m 반경 내 상권코드 추출 --> 인덱스 활용"
   ]
  },
  {
   "cell_type": "code",
   "execution_count": 451,
   "metadata": {},
   "outputs": [
    {
     "name": "stderr",
     "output_type": "stream",
     "text": [
      "건물별 500m 반경 내 상권코드 추출 중: 100%|███████████████████████████████████| 119972/119972 [19:05<00:00, 104.75it/s]\n"
     ]
    }
   ],
   "source": [
    "com_code_index = []\n",
    "\n",
    "for building_index in tqdm(building_geo.index, desc=\"건물별 500m 반경 내 상권코드 추출 중\"):\n",
    "    \n",
    "    point = building_geo['geometry'][building_index]\n",
    "    buffer = point.buffer(500)\n",
    "    \n",
    "    buffer_code = commercial_sort_geo[commercial_sort_geo['geometry'].within(buffer)==True].index\n",
    "    \n",
    "    code = list(buffer_code)\n",
    "    \n",
    "    com_code_index.append(code)"
   ]
  },
  {
   "cell_type": "code",
   "execution_count": 453,
   "metadata": {},
   "outputs": [
    {
     "data": {
      "text/plain": [
       "[975, 984, 989, 990, 1003, 1154]"
      ]
     },
     "execution_count": 453,
     "metadata": {},
     "output_type": "execute_result"
    }
   ],
   "source": [
    "com_code_index[1]"
   ]
  },
  {
   "cell_type": "code",
   "execution_count": null,
   "metadata": {},
   "outputs": [],
   "source": []
  },
  {
   "cell_type": "code",
   "execution_count": null,
   "metadata": {},
   "outputs": [],
   "source": []
  },
  {
   "cell_type": "markdown",
   "metadata": {},
   "source": [
    "### 6. 건물별 500m 반경 내 상권들의 평균 매출액 및 유동인구 산정"
   ]
  },
  {
   "cell_type": "code",
   "execution_count": 457,
   "metadata": {},
   "outputs": [],
   "source": [
    "building_sim = building_geo.drop(['xy_tuple', 'geometry', 'com_code'], axis=1)"
   ]
  },
  {
   "cell_type": "code",
   "execution_count": 458,
   "metadata": {},
   "outputs": [
    {
     "data": {
      "text/html": [
       "<div>\n",
       "<style scoped>\n",
       "    .dataframe tbody tr th:only-of-type {\n",
       "        vertical-align: middle;\n",
       "    }\n",
       "\n",
       "    .dataframe tbody tr th {\n",
       "        vertical-align: top;\n",
       "    }\n",
       "\n",
       "    .dataframe thead th {\n",
       "        text-align: right;\n",
       "    }\n",
       "</style>\n",
       "<table border=\"1\" class=\"dataframe\">\n",
       "  <thead>\n",
       "    <tr style=\"text-align: right;\">\n",
       "      <th></th>\n",
       "      <th>도로명주소</th>\n",
       "      <th>위도</th>\n",
       "      <th>경도</th>\n",
       "      <th>haver_dis_subway</th>\n",
       "      <th>haver_dis_school</th>\n",
       "      <th>haver_dis_mart</th>\n",
       "    </tr>\n",
       "  </thead>\n",
       "  <tbody>\n",
       "    <tr>\n",
       "      <th>0</th>\n",
       "      <td>서울특별시 강동구 양재대로 1540</td>\n",
       "      <td>37.542920</td>\n",
       "      <td>127.142450</td>\n",
       "      <td>0.316026</td>\n",
       "      <td>0.459123</td>\n",
       "      <td>0.110586</td>\n",
       "    </tr>\n",
       "    <tr>\n",
       "      <th>1</th>\n",
       "      <td>서울특별시 강동구 양재대로 1449</td>\n",
       "      <td>37.535248</td>\n",
       "      <td>127.138685</td>\n",
       "      <td>0.307749</td>\n",
       "      <td>0.416656</td>\n",
       "      <td>0.139283</td>\n",
       "    </tr>\n",
       "    <tr>\n",
       "      <th>2</th>\n",
       "      <td>서울특별시 강동구 양재대로128길</td>\n",
       "      <td>37.544508</td>\n",
       "      <td>127.144746</td>\n",
       "      <td>0.207319</td>\n",
       "      <td>0.498036</td>\n",
       "      <td>0.232098</td>\n",
       "    </tr>\n",
       "    <tr>\n",
       "      <th>3</th>\n",
       "      <td>서울특별시 강동구 천호대로 1156</td>\n",
       "      <td>37.533434</td>\n",
       "      <td>127.139603</td>\n",
       "      <td>0.487983</td>\n",
       "      <td>0.432536</td>\n",
       "      <td>0.346491</td>\n",
       "    </tr>\n",
       "    <tr>\n",
       "      <th>4</th>\n",
       "      <td>서울특별시 강동구 천호대로 1238</td>\n",
       "      <td>37.535540</td>\n",
       "      <td>127.148192</td>\n",
       "      <td>0.765237</td>\n",
       "      <td>0.442360</td>\n",
       "      <td>0.746099</td>\n",
       "    </tr>\n",
       "    <tr>\n",
       "      <th>...</th>\n",
       "      <td>...</td>\n",
       "      <td>...</td>\n",
       "      <td>...</td>\n",
       "      <td>...</td>\n",
       "      <td>...</td>\n",
       "      <td>...</td>\n",
       "    </tr>\n",
       "    <tr>\n",
       "      <th>119967</th>\n",
       "      <td>서울특별시 영등포구 영중로 155</td>\n",
       "      <td>37.530283</td>\n",
       "      <td>126.905429</td>\n",
       "      <td>0.571565</td>\n",
       "      <td>0.273858</td>\n",
       "      <td>0.283304</td>\n",
       "    </tr>\n",
       "    <tr>\n",
       "      <th>119968</th>\n",
       "      <td>서울특별시 영등포구 영중로 163</td>\n",
       "      <td>37.530840</td>\n",
       "      <td>126.905173</td>\n",
       "      <td>0.505860</td>\n",
       "      <td>0.252851</td>\n",
       "      <td>0.340109</td>\n",
       "    </tr>\n",
       "    <tr>\n",
       "      <th>119969</th>\n",
       "      <td>서울특별시 영등포구 영중로 155-8</td>\n",
       "      <td>37.530245</td>\n",
       "      <td>126.904834</td>\n",
       "      <td>0.555776</td>\n",
       "      <td>0.315615</td>\n",
       "      <td>0.271392</td>\n",
       "    </tr>\n",
       "    <tr>\n",
       "      <th>119970</th>\n",
       "      <td>서울특별시 영등포구 영중로 157-11</td>\n",
       "      <td>37.530342</td>\n",
       "      <td>126.904867</td>\n",
       "      <td>0.546632</td>\n",
       "      <td>0.306686</td>\n",
       "      <td>0.282294</td>\n",
       "    </tr>\n",
       "    <tr>\n",
       "      <th>119971</th>\n",
       "      <td>서울특별시 영등포구 영중로 154</td>\n",
       "      <td>37.530054</td>\n",
       "      <td>126.906335</td>\n",
       "      <td>0.631076</td>\n",
       "      <td>0.247315</td>\n",
       "      <td>0.289846</td>\n",
       "    </tr>\n",
       "  </tbody>\n",
       "</table>\n",
       "<p>119972 rows × 6 columns</p>\n",
       "</div>"
      ],
      "text/plain": [
       "                        도로명주소         위도          경도  haver_dis_subway  \\\n",
       "0         서울특별시 강동구 양재대로 1540  37.542920  127.142450          0.316026   \n",
       "1         서울특별시 강동구 양재대로 1449  37.535248  127.138685          0.307749   \n",
       "2         서울특별시 강동구 양재대로128길   37.544508  127.144746          0.207319   \n",
       "3         서울특별시 강동구 천호대로 1156  37.533434  127.139603          0.487983   \n",
       "4         서울특별시 강동구 천호대로 1238  37.535540  127.148192          0.765237   \n",
       "...                       ...        ...         ...               ...   \n",
       "119967     서울특별시 영등포구 영중로 155  37.530283  126.905429          0.571565   \n",
       "119968     서울특별시 영등포구 영중로 163  37.530840  126.905173          0.505860   \n",
       "119969   서울특별시 영등포구 영중로 155-8  37.530245  126.904834          0.555776   \n",
       "119970  서울특별시 영등포구 영중로 157-11  37.530342  126.904867          0.546632   \n",
       "119971     서울특별시 영등포구 영중로 154  37.530054  126.906335          0.631076   \n",
       "\n",
       "        haver_dis_school  haver_dis_mart  \n",
       "0               0.459123        0.110586  \n",
       "1               0.416656        0.139283  \n",
       "2               0.498036        0.232098  \n",
       "3               0.432536        0.346491  \n",
       "4               0.442360        0.746099  \n",
       "...                  ...             ...  \n",
       "119967          0.273858        0.283304  \n",
       "119968          0.252851        0.340109  \n",
       "119969          0.315615        0.271392  \n",
       "119970          0.306686        0.282294  \n",
       "119971          0.247315        0.289846  \n",
       "\n",
       "[119972 rows x 6 columns]"
      ]
     },
     "execution_count": 458,
     "metadata": {},
     "output_type": "execute_result"
    }
   ],
   "source": [
    "building_sim"
   ]
  },
  {
   "cell_type": "code",
   "execution_count": 460,
   "metadata": {},
   "outputs": [
    {
     "data": {
      "text/plain": [
       "119972"
      ]
     },
     "execution_count": 460,
     "metadata": {},
     "output_type": "execute_result"
    }
   ],
   "source": [
    "len(com_code_index)"
   ]
  },
  {
   "cell_type": "markdown",
   "metadata": {},
   "source": [
    "- 건물 500m 반경 내 상권 총매출액의 평균 = 평균 매출액 / 건물 500m 반경 내 상권 총 생활인구의 평균 = 평균 생활인구"
   ]
  },
  {
   "cell_type": "code",
   "execution_count": 328,
   "metadata": {},
   "outputs": [],
   "source": [
    "sales = pd.read_csv('com_sales_pop.csv', encoding='cp949')"
   ]
  },
  {
   "cell_type": "code",
   "execution_count": 454,
   "metadata": {},
   "outputs": [
    {
     "data": {
      "text/html": [
       "<div>\n",
       "<style scoped>\n",
       "    .dataframe tbody tr th:only-of-type {\n",
       "        vertical-align: middle;\n",
       "    }\n",
       "\n",
       "    .dataframe tbody tr th {\n",
       "        vertical-align: top;\n",
       "    }\n",
       "\n",
       "    .dataframe thead th {\n",
       "        text-align: right;\n",
       "    }\n",
       "</style>\n",
       "<table border=\"1\" class=\"dataframe\">\n",
       "  <thead>\n",
       "    <tr style=\"text-align: right;\">\n",
       "      <th></th>\n",
       "      <th>기준_년월_코드</th>\n",
       "      <th>상권_구분_코드</th>\n",
       "      <th>상권_구분_코드_명</th>\n",
       "      <th>상권_코드</th>\n",
       "      <th>상권_코드_명</th>\n",
       "      <th>엑스좌표_값</th>\n",
       "      <th>와이좌표_값</th>\n",
       "      <th>시군구_코드</th>\n",
       "      <th>행정동_코드</th>\n",
       "      <th>형태정보</th>\n",
       "      <th>lon</th>\n",
       "      <th>lat</th>\n",
       "      <th>xy_tuple</th>\n",
       "      <th>geometry</th>\n",
       "    </tr>\n",
       "  </thead>\n",
       "  <tbody>\n",
       "    <tr>\n",
       "      <th>985</th>\n",
       "      <td>201810</td>\n",
       "      <td>A</td>\n",
       "      <td>골목상권</td>\n",
       "      <td>1000987</td>\n",
       "      <td>양재대로116길</td>\n",
       "      <td>212534</td>\n",
       "      <td>448842</td>\n",
       "      <td>11740</td>\n",
       "      <td>11740685</td>\n",
       "      <td>NaN</td>\n",
       "      <td>127.142613</td>\n",
       "      <td>37.541751</td>\n",
       "      <td>(37.5417510819111, 127.14261274142063)</td>\n",
       "      <td>POINT (968428.057 1949218.313)</td>\n",
       "    </tr>\n",
       "    <tr>\n",
       "      <th>986</th>\n",
       "      <td>201810</td>\n",
       "      <td>A</td>\n",
       "      <td>골목상권</td>\n",
       "      <td>1000988</td>\n",
       "      <td>양재대로124길</td>\n",
       "      <td>212784</td>\n",
       "      <td>449174</td>\n",
       "      <td>11740</td>\n",
       "      <td>11740685</td>\n",
       "      <td>NaN</td>\n",
       "      <td>127.145447</td>\n",
       "      <td>37.544739</td>\n",
       "      <td>(37.54473895318282, 127.14544727621728)</td>\n",
       "      <td>POINT (968679.714 1949548.852)</td>\n",
       "    </tr>\n",
       "    <tr>\n",
       "      <th>998</th>\n",
       "      <td>201810</td>\n",
       "      <td>A</td>\n",
       "      <td>골목상권</td>\n",
       "      <td>1001000</td>\n",
       "      <td>진황도로47길</td>\n",
       "      <td>212452</td>\n",
       "      <td>448612</td>\n",
       "      <td>11740</td>\n",
       "      <td>11740685</td>\n",
       "      <td>NaN</td>\n",
       "      <td>127.141681</td>\n",
       "      <td>37.539680</td>\n",
       "      <td>(37.539679909928466, 127.14168102091898)</td>\n",
       "      <td>POINT (968344.872 1948988.843)</td>\n",
       "    </tr>\n",
       "    <tr>\n",
       "      <th>999</th>\n",
       "      <td>201810</td>\n",
       "      <td>A</td>\n",
       "      <td>골목상권</td>\n",
       "      <td>1001001</td>\n",
       "      <td>천중로39길</td>\n",
       "      <td>212368</td>\n",
       "      <td>449352</td>\n",
       "      <td>11740</td>\n",
       "      <td>11740600</td>\n",
       "      <td>NaN</td>\n",
       "      <td>127.140743</td>\n",
       "      <td>37.546348</td>\n",
       "      <td>(37.546348357396155, 127.14074297239245)</td>\n",
       "      <td>POINT (968264.829 1949728.983)</td>\n",
       "    </tr>\n",
       "    <tr>\n",
       "      <th>1478</th>\n",
       "      <td>201810</td>\n",
       "      <td>R</td>\n",
       "      <td>전통시장</td>\n",
       "      <td>1001490</td>\n",
       "      <td>길동복조리시장</td>\n",
       "      <td>212698</td>\n",
       "      <td>448781</td>\n",
       "      <td>11740</td>\n",
       "      <td>11740685</td>\n",
       "      <td>NaN</td>\n",
       "      <td>127.144467</td>\n",
       "      <td>37.541199</td>\n",
       "      <td>(37.5411992465174, 127.14446737504005)</td>\n",
       "      <td>POINT (968591.667 1949156.469)</td>\n",
       "    </tr>\n",
       "  </tbody>\n",
       "</table>\n",
       "</div>"
      ],
      "text/plain": [
       "      기준_년월_코드 상권_구분_코드 상권_구분_코드_명    상권_코드   상권_코드_명  엑스좌표_값  와이좌표_값  시군구_코드  \\\n",
       "985     201810        A       골목상권  1000987  양재대로116길  212534  448842   11740   \n",
       "986     201810        A       골목상권  1000988  양재대로124길  212784  449174   11740   \n",
       "998     201810        A       골목상권  1001000   진황도로47길  212452  448612   11740   \n",
       "999     201810        A       골목상권  1001001    천중로39길  212368  449352   11740   \n",
       "1478    201810        R       전통시장  1001490   길동복조리시장  212698  448781   11740   \n",
       "\n",
       "        행정동_코드  형태정보         lon        lat  \\\n",
       "985   11740685   NaN  127.142613  37.541751   \n",
       "986   11740685   NaN  127.145447  37.544739   \n",
       "998   11740685   NaN  127.141681  37.539680   \n",
       "999   11740600   NaN  127.140743  37.546348   \n",
       "1478  11740685   NaN  127.144467  37.541199   \n",
       "\n",
       "                                      xy_tuple                        geometry  \n",
       "985     (37.5417510819111, 127.14261274142063)  POINT (968428.057 1949218.313)  \n",
       "986    (37.54473895318282, 127.14544727621728)  POINT (968679.714 1949548.852)  \n",
       "998   (37.539679909928466, 127.14168102091898)  POINT (968344.872 1948988.843)  \n",
       "999   (37.546348357396155, 127.14074297239245)  POINT (968264.829 1949728.983)  \n",
       "1478    (37.5411992465174, 127.14446737504005)  POINT (968591.667 1949156.469)  "
      ]
     },
     "execution_count": 454,
     "metadata": {},
     "output_type": "execute_result"
    }
   ],
   "source": [
    "commercial_sort_geo.iloc[com_code_index[0],:]"
   ]
  },
  {
   "cell_type": "code",
   "execution_count": 456,
   "metadata": {},
   "outputs": [
    {
     "data": {
      "text/html": [
       "<div>\n",
       "<style scoped>\n",
       "    .dataframe tbody tr th:only-of-type {\n",
       "        vertical-align: middle;\n",
       "    }\n",
       "\n",
       "    .dataframe tbody tr th {\n",
       "        vertical-align: top;\n",
       "    }\n",
       "\n",
       "    .dataframe thead th {\n",
       "        text-align: right;\n",
       "    }\n",
       "</style>\n",
       "<table border=\"1\" class=\"dataframe\">\n",
       "  <thead>\n",
       "    <tr style=\"text-align: right;\">\n",
       "      <th></th>\n",
       "      <th>상권_코드</th>\n",
       "      <th>총_매출액</th>\n",
       "      <th>총_건수</th>\n",
       "      <th>건당_매출액</th>\n",
       "      <th>총_생활인구_수</th>\n",
       "    </tr>\n",
       "  </thead>\n",
       "  <tbody>\n",
       "    <tr>\n",
       "      <th>985</th>\n",
       "      <td>1000987</td>\n",
       "      <td>1.452882e+10</td>\n",
       "      <td>735740</td>\n",
       "      <td>19747.22564</td>\n",
       "      <td>5781902</td>\n",
       "    </tr>\n",
       "    <tr>\n",
       "      <th>986</th>\n",
       "      <td>1000988</td>\n",
       "      <td>1.530867e+10</td>\n",
       "      <td>816384</td>\n",
       "      <td>18751.80399</td>\n",
       "      <td>21656275</td>\n",
       "    </tr>\n",
       "    <tr>\n",
       "      <th>998</th>\n",
       "      <td>1001000</td>\n",
       "      <td>2.337777e+10</td>\n",
       "      <td>1141791</td>\n",
       "      <td>20474.64965</td>\n",
       "      <td>13896862</td>\n",
       "    </tr>\n",
       "    <tr>\n",
       "      <th>999</th>\n",
       "      <td>1001001</td>\n",
       "      <td>1.757398e+10</td>\n",
       "      <td>923591</td>\n",
       "      <td>19027.88068</td>\n",
       "      <td>36070591</td>\n",
       "    </tr>\n",
       "    <tr>\n",
       "      <th>1478</th>\n",
       "      <td>1001490</td>\n",
       "      <td>5.677881e+10</td>\n",
       "      <td>2718464</td>\n",
       "      <td>20886.35692</td>\n",
       "      <td>13721829</td>\n",
       "    </tr>\n",
       "  </tbody>\n",
       "</table>\n",
       "</div>"
      ],
      "text/plain": [
       "        상권_코드         총_매출액     총_건수       건당_매출액  총_생활인구_수\n",
       "985   1000987  1.452882e+10   735740  19747.22564   5781902\n",
       "986   1000988  1.530867e+10   816384  18751.80399  21656275\n",
       "998   1001000  2.337777e+10  1141791  20474.64965  13896862\n",
       "999   1001001  1.757398e+10   923591  19027.88068  36070591\n",
       "1478  1001490  5.677881e+10  2718464  20886.35692  13721829"
      ]
     },
     "execution_count": 456,
     "metadata": {},
     "output_type": "execute_result"
    }
   ],
   "source": [
    "sales_sort.iloc[com_code_index[0], :]"
   ]
  },
  {
   "cell_type": "code",
   "execution_count": 465,
   "metadata": {},
   "outputs": [
    {
     "name": "stderr",
     "output_type": "stream",
     "text": [
      "평균 매출액과 평균 생활인구 수 구하기: 100%|█████████████████████████████████| 119972/119972 [01:37<00:00, 1224.86it/s]\n"
     ]
    }
   ],
   "source": [
    "mean_sales = []\n",
    "mean_pop = []\n",
    "\n",
    "for building_index in tqdm(building_sim.index, desc='평균 매출액과 평균 생활인구 수 구하기'):\n",
    "    \n",
    "    df = sales.iloc[com_code_index[building_index], :]\n",
    "    \n",
    "    total_sales = df['총_매출액'].mean()\n",
    "    total_pop = df['총_생활인구_수'].mean()\n",
    "    \n",
    "    mean_sales.append(total_sales)\n",
    "    mean_pop.append(total_pop)"
   ]
  },
  {
   "cell_type": "code",
   "execution_count": 478,
   "metadata": {},
   "outputs": [],
   "source": [
    "mean_sales_df = pd.DataFrame(mean_sales, columns=['mean_sales'])\n",
    "mean_pop_df = pd.DataFrame(mean_pop, columns=['mean_pop'])"
   ]
  },
  {
   "cell_type": "code",
   "execution_count": 479,
   "metadata": {},
   "outputs": [],
   "source": [
    "building_total = pd.concat([building_sim, mean_sales_df], axis=1)"
   ]
  },
  {
   "cell_type": "code",
   "execution_count": 480,
   "metadata": {},
   "outputs": [],
   "source": [
    "building_total = pd.concat([building_total, mean_pop_df], axis=1)"
   ]
  },
  {
   "cell_type": "code",
   "execution_count": 483,
   "metadata": {},
   "outputs": [],
   "source": [
    "building_total.to_csv('building_total.csv', encoding='euc-kr', index=False)"
   ]
  },
  {
   "cell_type": "code",
   "execution_count": null,
   "metadata": {},
   "outputs": [],
   "source": []
  },
  {
   "cell_type": "code",
   "execution_count": 484,
   "metadata": {},
   "outputs": [
    {
     "data": {
      "text/html": [
       "<div>\n",
       "<style scoped>\n",
       "    .dataframe tbody tr th:only-of-type {\n",
       "        vertical-align: middle;\n",
       "    }\n",
       "\n",
       "    .dataframe tbody tr th {\n",
       "        vertical-align: top;\n",
       "    }\n",
       "\n",
       "    .dataframe thead th {\n",
       "        text-align: right;\n",
       "    }\n",
       "</style>\n",
       "<table border=\"1\" class=\"dataframe\">\n",
       "  <thead>\n",
       "    <tr style=\"text-align: right;\">\n",
       "      <th></th>\n",
       "      <th>도로명주소</th>\n",
       "      <th>위도</th>\n",
       "      <th>경도</th>\n",
       "      <th>haver_dis_subway</th>\n",
       "      <th>haver_dis_school</th>\n",
       "      <th>haver_dis_mart</th>\n",
       "      <th>mean_sales</th>\n",
       "      <th>mean_pop</th>\n",
       "    </tr>\n",
       "  </thead>\n",
       "  <tbody>\n",
       "    <tr>\n",
       "      <th>0</th>\n",
       "      <td>서울특별시 강동구 양재대로 1540</td>\n",
       "      <td>37.542920</td>\n",
       "      <td>127.142450</td>\n",
       "      <td>0.316026</td>\n",
       "      <td>0.459123</td>\n",
       "      <td>0.110586</td>\n",
       "      <td>2.551361e+10</td>\n",
       "      <td>18225491.8</td>\n",
       "    </tr>\n",
       "    <tr>\n",
       "      <th>1</th>\n",
       "      <td>서울특별시 강동구 양재대로 1449</td>\n",
       "      <td>37.535248</td>\n",
       "      <td>127.138685</td>\n",
       "      <td>0.307749</td>\n",
       "      <td>0.416656</td>\n",
       "      <td>0.139283</td>\n",
       "      <td>4.715353e+10</td>\n",
       "      <td>20419730.5</td>\n",
       "    </tr>\n",
       "    <tr>\n",
       "      <th>2</th>\n",
       "      <td>서울특별시 강동구 양재대로128길</td>\n",
       "      <td>37.544508</td>\n",
       "      <td>127.144746</td>\n",
       "      <td>0.207319</td>\n",
       "      <td>0.498036</td>\n",
       "      <td>0.232098</td>\n",
       "      <td>2.896793e+10</td>\n",
       "      <td>22305878.2</td>\n",
       "    </tr>\n",
       "    <tr>\n",
       "      <th>3</th>\n",
       "      <td>서울특별시 강동구 천호대로 1156</td>\n",
       "      <td>37.533434</td>\n",
       "      <td>127.139603</td>\n",
       "      <td>0.487983</td>\n",
       "      <td>0.432536</td>\n",
       "      <td>0.346491</td>\n",
       "      <td>3.770563e+10</td>\n",
       "      <td>15761681.4</td>\n",
       "    </tr>\n",
       "    <tr>\n",
       "      <th>4</th>\n",
       "      <td>서울특별시 강동구 천호대로 1238</td>\n",
       "      <td>37.535540</td>\n",
       "      <td>127.148192</td>\n",
       "      <td>0.765237</td>\n",
       "      <td>0.442360</td>\n",
       "      <td>0.746099</td>\n",
       "      <td>3.966936e+10</td>\n",
       "      <td>12552664.0</td>\n",
       "    </tr>\n",
       "    <tr>\n",
       "      <th>...</th>\n",
       "      <td>...</td>\n",
       "      <td>...</td>\n",
       "      <td>...</td>\n",
       "      <td>...</td>\n",
       "      <td>...</td>\n",
       "      <td>...</td>\n",
       "      <td>...</td>\n",
       "      <td>...</td>\n",
       "    </tr>\n",
       "    <tr>\n",
       "      <th>119967</th>\n",
       "      <td>서울특별시 영등포구 영중로 155</td>\n",
       "      <td>37.530283</td>\n",
       "      <td>126.905429</td>\n",
       "      <td>0.571565</td>\n",
       "      <td>0.273858</td>\n",
       "      <td>0.283304</td>\n",
       "      <td>3.073583e+10</td>\n",
       "      <td>9318388.0</td>\n",
       "    </tr>\n",
       "    <tr>\n",
       "      <th>119968</th>\n",
       "      <td>서울특별시 영등포구 영중로 163</td>\n",
       "      <td>37.530840</td>\n",
       "      <td>126.905173</td>\n",
       "      <td>0.505860</td>\n",
       "      <td>0.252851</td>\n",
       "      <td>0.340109</td>\n",
       "      <td>3.073583e+10</td>\n",
       "      <td>9318388.0</td>\n",
       "    </tr>\n",
       "    <tr>\n",
       "      <th>119969</th>\n",
       "      <td>서울특별시 영등포구 영중로 155-8</td>\n",
       "      <td>37.530245</td>\n",
       "      <td>126.904834</td>\n",
       "      <td>0.555776</td>\n",
       "      <td>0.315615</td>\n",
       "      <td>0.271392</td>\n",
       "      <td>3.073583e+10</td>\n",
       "      <td>9318388.0</td>\n",
       "    </tr>\n",
       "    <tr>\n",
       "      <th>119970</th>\n",
       "      <td>서울특별시 영등포구 영중로 157-11</td>\n",
       "      <td>37.530342</td>\n",
       "      <td>126.904867</td>\n",
       "      <td>0.546632</td>\n",
       "      <td>0.306686</td>\n",
       "      <td>0.282294</td>\n",
       "      <td>3.073583e+10</td>\n",
       "      <td>9318388.0</td>\n",
       "    </tr>\n",
       "    <tr>\n",
       "      <th>119971</th>\n",
       "      <td>서울특별시 영등포구 영중로 154</td>\n",
       "      <td>37.530054</td>\n",
       "      <td>126.906335</td>\n",
       "      <td>0.631076</td>\n",
       "      <td>0.247315</td>\n",
       "      <td>0.289846</td>\n",
       "      <td>NaN</td>\n",
       "      <td>NaN</td>\n",
       "    </tr>\n",
       "  </tbody>\n",
       "</table>\n",
       "<p>119972 rows × 8 columns</p>\n",
       "</div>"
      ],
      "text/plain": [
       "                        도로명주소         위도          경도  haver_dis_subway  \\\n",
       "0         서울특별시 강동구 양재대로 1540  37.542920  127.142450          0.316026   \n",
       "1         서울특별시 강동구 양재대로 1449  37.535248  127.138685          0.307749   \n",
       "2         서울특별시 강동구 양재대로128길   37.544508  127.144746          0.207319   \n",
       "3         서울특별시 강동구 천호대로 1156  37.533434  127.139603          0.487983   \n",
       "4         서울특별시 강동구 천호대로 1238  37.535540  127.148192          0.765237   \n",
       "...                       ...        ...         ...               ...   \n",
       "119967     서울특별시 영등포구 영중로 155  37.530283  126.905429          0.571565   \n",
       "119968     서울특별시 영등포구 영중로 163  37.530840  126.905173          0.505860   \n",
       "119969   서울특별시 영등포구 영중로 155-8  37.530245  126.904834          0.555776   \n",
       "119970  서울특별시 영등포구 영중로 157-11  37.530342  126.904867          0.546632   \n",
       "119971     서울특별시 영등포구 영중로 154  37.530054  126.906335          0.631076   \n",
       "\n",
       "        haver_dis_school  haver_dis_mart    mean_sales    mean_pop  \n",
       "0               0.459123        0.110586  2.551361e+10  18225491.8  \n",
       "1               0.416656        0.139283  4.715353e+10  20419730.5  \n",
       "2               0.498036        0.232098  2.896793e+10  22305878.2  \n",
       "3               0.432536        0.346491  3.770563e+10  15761681.4  \n",
       "4               0.442360        0.746099  3.966936e+10  12552664.0  \n",
       "...                  ...             ...           ...         ...  \n",
       "119967          0.273858        0.283304  3.073583e+10   9318388.0  \n",
       "119968          0.252851        0.340109  3.073583e+10   9318388.0  \n",
       "119969          0.315615        0.271392  3.073583e+10   9318388.0  \n",
       "119970          0.306686        0.282294  3.073583e+10   9318388.0  \n",
       "119971          0.247315        0.289846           NaN         NaN  \n",
       "\n",
       "[119972 rows x 8 columns]"
      ]
     },
     "execution_count": 484,
     "metadata": {},
     "output_type": "execute_result"
    }
   ],
   "source": [
    "building_total"
   ]
  }
 ],
 "metadata": {
  "kernelspec": {
   "display_name": "Python 3",
   "language": "python",
   "name": "python3"
  },
  "language_info": {
   "codemirror_mode": {
    "name": "ipython",
    "version": 3
   },
   "file_extension": ".py",
   "mimetype": "text/x-python",
   "name": "python",
   "nbconvert_exporter": "python",
   "pygments_lexer": "ipython3",
   "version": "3.8.3"
  }
 },
 "nbformat": 4,
 "nbformat_minor": 4
}
